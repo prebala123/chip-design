{
 "cells": [
  {
   "cell_type": "markdown",
   "metadata": {},
   "source": [
    "# Node features\n",
    "1. Cell Type\n",
    "2. Width\n",
    "3. Height\n",
    "4. Orientation\n",
    "5. Cell Degree <br>\n",
    "6-15. Eigenvectors <br>\n",
    "16-33. Persistence Diagram <br>\n",
    "34-45. Degree distribution of local neighborhood <br>\n",
    "\n",
    "# Net features \n",
    "1. Degree <br>\n",
    "2-11. Eigenvectors"
   ]
  },
  {
   "cell_type": "code",
   "execution_count": 1,
   "metadata": {},
   "outputs": [],
   "source": [
    "import numpy as np\n",
    "import pickle\n",
    "import matplotlib.pyplot as plt\n",
    "import torch"
   ]
  },
  {
   "cell_type": "code",
   "execution_count": 24,
   "metadata": {},
   "outputs": [],
   "source": [
    "fp = 'superblue/superblue_1/node_features.pkl'\n",
    "with open(fp, 'rb') as f:\n",
    "    features = pickle.load(f)"
   ]
  },
  {
   "cell_type": "code",
   "execution_count": 25,
   "metadata": {},
   "outputs": [
    {
     "data": {
      "text/plain": [
       "{'num_instances': 797938,\n",
       " 'num_nets': 821523,\n",
       " 'x_min': 5250,\n",
       " 'x_max': 8253120,\n",
       " 'y_min': 6660,\n",
       " 'y_max': 8255070,\n",
       " 'min_cell_width': 1920,\n",
       " 'max_cell_width': 19211520,\n",
       " 'min_cell_height': 13320,\n",
       " 'max_cell_height': 20601600,\n",
       " 'instance_features': array([[4.80127597e-01, 6.48768672e-01, 1.32000000e+02, 3.99800100e-04,\n",
       "         0.00000000e+00, 0.00000000e+00],\n",
       "        [5.25928512e-01, 5.46225273e-01, 3.59000000e+02, 7.99600200e-04,\n",
       "         0.00000000e+00, 0.00000000e+00],\n",
       "        [5.28372780e-01, 5.47840129e-01, 1.76000000e+02, 4.99750125e-04,\n",
       "         0.00000000e+00, 6.00000000e+00],\n",
       "        ...,\n",
       "        [2.78009959e-01, 8.76059750e-02, 6.00000000e+00, 1.59920040e-03,\n",
       "         0.00000000e+00, 0.00000000e+00],\n",
       "        [2.72772243e-01, 8.35688333e-02, 6.00000000e+00, 1.59920040e-03,\n",
       "         0.00000000e+00, 6.00000000e+00],\n",
       "        [2.78068156e-01, 6.49979814e-02, 6.00000000e+00, 1.59920040e-03,\n",
       "         0.00000000e+00, 0.00000000e+00]]),\n",
       " 'sample_name': '/data/zluo/new_data/superblue19/6/',\n",
       " 'folder': '/data/zluo/new_data/superblue1/4/',\n",
       " 'design': 'superblue1'}"
      ]
     },
     "execution_count": 25,
     "metadata": {},
     "output_type": "execute_result"
    }
   ],
   "source": [
    "features"
   ]
  },
  {
   "cell_type": "code",
   "execution_count": 14,
   "metadata": {},
   "outputs": [
    {
     "data": {
      "text/plain": [
       "array([[1.32000000e+02, 3.99800100e-04, 0.00000000e+00, 0.00000000e+00],\n",
       "       [3.59000000e+02, 7.99600200e-04, 0.00000000e+00, 0.00000000e+00],\n",
       "       [1.76000000e+02, 4.99750125e-04, 0.00000000e+00, 6.00000000e+00],\n",
       "       ...,\n",
       "       [6.00000000e+00, 1.59920040e-03, 0.00000000e+00, 0.00000000e+00],\n",
       "       [6.00000000e+00, 1.59920040e-03, 0.00000000e+00, 6.00000000e+00],\n",
       "       [6.00000000e+00, 1.59920040e-03, 0.00000000e+00, 0.00000000e+00]])"
      ]
     },
     "execution_count": 14,
     "metadata": {},
     "output_type": "execute_result"
    }
   ],
   "source": [
    "feats = features['instance_features'][:, 2:]\n",
    "feats"
   ]
  },
  {
   "cell_type": "code",
   "execution_count": 32,
   "metadata": {},
   "outputs": [
    {
     "data": {
      "text/plain": [
       "0.1828085957021489"
      ]
     },
     "execution_count": 32,
     "metadata": {},
     "output_type": "execute_result"
    }
   ],
   "source": [
    "feats[:, 1].max()"
   ]
  },
  {
   "cell_type": "code",
   "execution_count": 33,
   "metadata": {},
   "outputs": [],
   "source": [
    "fp = 'superblue/superblue_1/degree.pkl'\n",
    "with open(fp, 'rb') as f:\n",
    "    degree = pickle.load(f)"
   ]
  },
  {
   "cell_type": "code",
   "execution_count": 36,
   "metadata": {},
   "outputs": [
    {
     "data": {
      "text/plain": [
       "797938"
      ]
     },
     "execution_count": 36,
     "metadata": {},
     "output_type": "execute_result"
    }
   ],
   "source": [
    "len(degree['cell_degrees'])"
   ]
  },
  {
   "cell_type": "code",
   "execution_count": 37,
   "metadata": {},
   "outputs": [],
   "source": [
    "fp = 'superblue/superblue_1/node_neighbor_features.pkl'\n",
    "with open(fp, 'rb') as f:\n",
    "    pd = pickle.load(f)"
   ]
  },
  {
   "cell_type": "code",
   "execution_count": 41,
   "metadata": {},
   "outputs": [
    {
     "data": {
      "text/plain": [
       "(797938, 18)"
      ]
     },
     "execution_count": 41,
     "metadata": {},
     "output_type": "execute_result"
    }
   ],
   "source": [
    "pd['pd'].shape"
   ]
  },
  {
   "cell_type": "code",
   "execution_count": 44,
   "metadata": {},
   "outputs": [
    {
     "data": {
      "text/plain": [
       "(797938, 12)"
      ]
     },
     "execution_count": 44,
     "metadata": {},
     "output_type": "execute_result"
    }
   ],
   "source": [
    "pd['neighbor'].shape"
   ]
  },
  {
   "cell_type": "code",
   "execution_count": 43,
   "metadata": {},
   "outputs": [
    {
     "data": {
      "text/plain": [
       "{'pd': array([[0.57659997, 3.78525   , 2.84100841, ..., 0.        , 0.        ,\n",
       "         0.        ],\n",
       "        [1.1236587 , 2.59016081, 0.48024168, ..., 0.        , 0.        ,\n",
       "         0.        ],\n",
       "        [1.1236587 , 2.59016081, 0.48024168, ..., 0.        , 0.        ,\n",
       "         0.        ],\n",
       "        ...,\n",
       "        [0.        , 0.        , 0.        , ..., 0.95083978, 0.6301005 ,\n",
       "         0.03481547],\n",
       "        [0.        , 0.        , 0.        , ..., 1.14630555, 1.43355668,\n",
       "         0.14265637],\n",
       "        [0.        , 0.        , 0.        , ..., 1.44839475, 1.73426691,\n",
       "         0.1504663 ]]),\n",
       " 'neighbor': array([[ 3.,  5.,  7., ...,  1.,  1.,  1.],\n",
       "        [ 3., 10., 20., ...,  1.,  1.,  1.],\n",
       "        [ 3., 10., 20., ...,  1.,  1.,  1.],\n",
       "        ...,\n",
       "        [ 1.,  1.,  1., ...,  7.,  6.,  5.],\n",
       "        [ 1.,  1.,  1., ...,  7.,  9.,  8.],\n",
       "        [ 1.,  1.,  1., ...,  7.,  7.,  7.]])}"
      ]
     },
     "execution_count": 43,
     "metadata": {},
     "output_type": "execute_result"
    }
   ],
   "source": [
    "pd"
   ]
  },
  {
   "cell_type": "code",
   "execution_count": 95,
   "metadata": {},
   "outputs": [],
   "source": [
    "fp = 'superblue/superblue_1/targets.pkl'\n",
    "with open(fp, 'rb') as f:\n",
    "    targets = pickle.load(f)"
   ]
  },
  {
   "cell_type": "code",
   "execution_count": 96,
   "metadata": {},
   "outputs": [
    {
     "data": {
      "text/plain": [
       "{'demand': array([20.        , 12.5       , 13.33333333, ...,  0.83333333,\n",
       "         0.83333333,  6.66666667]),\n",
       " 'capacity': array([10.83333333, 15.83333333, 11.66666667, ...,  1.66666667,\n",
       "         2.5       , 23.33333333]),\n",
       " 'classify': tensor([[1],\n",
       "         [0],\n",
       "         [1],\n",
       "         ...,\n",
       "         [0],\n",
       "         [0],\n",
       "         [0]])}"
      ]
     },
     "execution_count": 96,
     "metadata": {},
     "output_type": "execute_result"
    }
   ],
   "source": [
    "targets"
   ]
  },
  {
   "cell_type": "code",
   "execution_count": 99,
   "metadata": {},
   "outputs": [
    {
     "data": {
      "text/plain": [
       "(array([150094.,  98495.,  59788., 160273., 169909., 101077.,  40082.,\n",
       "         13409.,   3531.,    738.,    237.]),\n",
       " array([ 0.,  5., 10., 15., 20., 25., 30., 35., 40., 45., 50., 55.]),\n",
       " <BarContainer object of 11 artists>)"
      ]
     },
     "execution_count": 99,
     "metadata": {},
     "output_type": "execute_result"
    },
    {
     "data": {
      "image/png": "[encoded data removed]",
      "text/plain": [
       "<Figure size 640x480 with 1 Axes>"
      ]
     },
     "metadata": {},
     "output_type": "display_data"
    }
   ],
   "source": [
    "plt.hist(targets['demand'], bins=np.arange(0, 60, 5))"
   ]
  },
  {
   "cell_type": "code",
   "execution_count": 100,
   "metadata": {},
   "outputs": [
    {
     "data": {
      "text/plain": [
       "(array([186513.,  30760.,  66861., 437682.,  71335.,   4787.,      0.,\n",
       "             0.,      0.,      0.,      0.]),\n",
       " array([ 0.,  5., 10., 15., 20., 25., 30., 35., 40., 45., 50., 55.]),\n",
       " <BarContainer object of 11 artists>)"
      ]
     },
     "execution_count": 100,
     "metadata": {},
     "output_type": "execute_result"
    },
    {
     "data": {
      "image/png": "[encoded data removed]",
      "text/plain": [
       "<Figure size 640x480 with 1 Axes>"
      ]
     },
     "metadata": {},
     "output_type": "display_data"
    }
   ],
   "source": [
    "plt.hist(targets['capacity'], bins=np.arange(0, 60, 5))"
   ]
  },
  {
   "cell_type": "code",
   "execution_count": 64,
   "metadata": {},
   "outputs": [
    {
     "data": {
      "text/plain": [
       "0.7836974802553582"
      ]
     },
     "execution_count": 64,
     "metadata": {},
     "output_type": "execute_result"
    }
   ],
   "source": [
    "np.array(targets['classify']).mean()"
   ]
  },
  {
   "cell_type": "code",
   "execution_count": 79,
   "metadata": {},
   "outputs": [],
   "source": [
    "clf = np.array(targets['classify'].flatten())"
   ]
  },
  {
   "cell_type": "code",
   "execution_count": 80,
   "metadata": {},
   "outputs": [
    {
     "data": {
      "text/plain": [
       "array([1, 0, 1, 1, 1, 1, 1, 1, 1, 1, 1, 1, 1, 1, 1, 1, 0, 1, 1, 1],\n",
       "      dtype=int64)"
      ]
     },
     "execution_count": 80,
     "metadata": {},
     "output_type": "execute_result"
    }
   ],
   "source": [
    "clf[:20]"
   ]
  },
  {
   "cell_type": "code",
   "execution_count": 81,
   "metadata": {},
   "outputs": [
    {
     "name": "stdout",
     "output_type": "stream",
     "text": [
      "Chip 1: 0.7836974802553582\n",
      "Chip 2: 0.39604969059028605\n",
      "Chip 3: 0.5329729465833162\n",
      "Chip 5: 0.6323278902193057\n",
      "Chip 6: 0.7270103253910845\n",
      "Chip 7: 0.8123872296164215\n",
      "Chip 9: 0.3656470303843554\n",
      "Chip 11: 0.569042242691056\n",
      "Chip 14: 0.6268041612045209\n",
      "Chip 16: 0.6612834508196233\n",
      "Chip 18: 0.6097193658255259\n",
      "Chip 19: 0.6327009050267146\n"
     ]
    }
   ],
   "source": [
    "chips = [1, 2, 3, 5, 6, 7, 9, 11, 14, 16, 18, 19]\n",
    "for c in chips:\n",
    "    fp = f'superblue/superblue_{c}/targets.pkl'\n",
    "    with open(fp, 'rb') as f:\n",
    "        targets = pickle.load(f)\n",
    "    clf = np.array(targets['classify'].flatten()).mean()\n",
    "    print(f'Chip {c}: {clf}')"
   ]
  },
  {
   "cell_type": "code",
   "execution_count": 150,
   "metadata": {},
   "outputs": [
    {
     "data": {
      "text/plain": [
       "array([1, 1, 1, 1, 1, 1, 1, 1, 1, 1, 1, 1, 1, 1, 1, 1, 1, 1, 1, 1, 1, 0,\n",
       "       0, 1, 1, 0, 0, 1, 1, 1, 0, 0, 1, 1, 1, 0, 0, 0, 0, 0, 0, 1, 1, 1,\n",
       "       1, 0, 0, 1, 1, 0, 1, 0, 1, 0, 0, 1, 1, 1, 1, 1, 1, 1, 0, 0, 0, 1,\n",
       "       1, 0, 0, 1, 1, 1, 0, 0, 0, 0, 0, 1, 0, 1, 1, 0, 0, 0, 0, 1, 0, 0,\n",
       "       0, 0, 0, 1, 1, 0, 1, 1, 1, 0, 0, 0], dtype=int64)"
      ]
     },
     "execution_count": 150,
     "metadata": {},
     "output_type": "execute_result"
    }
   ],
   "source": [
    "fp = 'superblue/superblue_1/targets.pkl'\n",
    "with open(fp, 'rb') as f:\n",
    "    targets = pickle.load(f)\n",
    "clf = np.array(targets['classify'].flatten())\n",
    "clf[-100:]"
   ]
  },
  {
   "cell_type": "code",
   "execution_count": 153,
   "metadata": {},
   "outputs": [
    {
     "data": {
      "text/plain": [
       "tensor([[1],\n",
       "        [0],\n",
       "        [1],\n",
       "        ...,\n",
       "        [0],\n",
       "        [0],\n",
       "        [0]])"
      ]
     },
     "execution_count": 153,
     "metadata": {},
     "output_type": "execute_result"
    }
   ],
   "source": [
    "targets['classify']"
   ]
  },
  {
   "cell_type": "code",
   "execution_count": 156,
   "metadata": {},
   "outputs": [
    {
     "data": {
      "text/plain": [
       "tensor([[-0.6868, -1.9800,  0.3233,  0.3805, -1.0642],\n",
       "        [ 0.6000,  0.1901, -0.5083,  1.7254, -0.4392],\n",
       "        [ 3.2952,  1.9224, -1.2898, -1.9656, -0.2964]], requires_grad=True)"
      ]
     },
     "execution_count": 156,
     "metadata": {},
     "output_type": "execute_result"
    }
   ],
   "source": [
    "torch.randn(3, 5, requires_grad=True)"
   ]
  },
  {
   "cell_type": "code",
   "execution_count": 157,
   "metadata": {},
   "outputs": [
    {
     "data": {
      "text/plain": [
       "tensor([4, 0, 2])"
      ]
     },
     "execution_count": 157,
     "metadata": {},
     "output_type": "execute_result"
    }
   ],
   "source": [
    "torch.empty(3, dtype=torch.long).random_(5)"
   ]
  },
  {
   "cell_type": "code",
   "execution_count": null,
   "metadata": {},
   "outputs": [],
   "source": []
  },
  {
   "cell_type": "code",
   "execution_count": 147,
   "metadata": {},
   "outputs": [
    {
     "name": "stderr",
     "output_type": "stream",
     "text": [
      "C:\\Users\\rebal\\AppData\\Local\\Temp\\ipykernel_63420\\2521173607.py:6: RuntimeWarning: invalid value encountered in divide\n",
      "  capacity = np.array(targets['demand']) / np.array(targets['capacity'])\n"
     ]
    },
    {
     "data": {
      "text/plain": [
       "array([0.78220295,        nan,        nan, ..., 0.63157895, 0.67123288,\n",
       "       0.69230769])"
      ]
     },
     "execution_count": 147,
     "metadata": {},
     "output_type": "execute_result"
    }
   ],
   "source": [
    "fp = 'superblue/superblue_1/net_demand_capacity.pkl'\n",
    "with open(fp, 'rb') as f:\n",
    "    targets = pickle.load(f)\n",
    "# clf = np.array(targets['classify'].flatten())\n",
    "# clf[-100:]\n",
    "capacity = np.array(targets['demand']) / np.array(targets['capacity'])\n",
    "capacity"
   ]
  },
  {
   "cell_type": "code",
   "execution_count": 148,
   "metadata": {},
   "outputs": [
    {
     "data": {
      "text/plain": [
       "array([0, 0, 0, ..., 0, 0, 0])"
      ]
     },
     "execution_count": 148,
     "metadata": {},
     "output_type": "execute_result"
    }
   ],
   "source": [
    "capacity = np.array([d/c if c > 0 else 0 for d, c in zip(targets['demand'], targets['capacity'])])\n",
    "clf = (capacity > 0.9).astype(int)\n",
    "clf"
   ]
  },
  {
   "cell_type": "code",
   "execution_count": 155,
   "metadata": {},
   "outputs": [
    {
     "data": {
      "text/plain": [
       "tensor([[1],\n",
       "        [0],\n",
       "        [1],\n",
       "        ...,\n",
       "        [0],\n",
       "        [0],\n",
       "        [0]])"
      ]
     },
     "execution_count": 155,
     "metadata": {},
     "output_type": "execute_result"
    }
   ],
   "source": [
    "torch.tensor(clf).unsqueeze_(1)"
   ]
  },
  {
   "cell_type": "code",
   "execution_count": 145,
   "metadata": {},
   "outputs": [
    {
     "data": {
      "text/plain": [
       "array([10.65378645,  0.        ,  0.        ,  0.        ,  0.        ,\n",
       "       18.        , 27.        , 24.        , 16.        , 19.        ,\n",
       "       20.        , 18.        , 15.        , 18.        , 18.        ,\n",
       "        0.        , 20.        , 19.        , 18.        , 17.        ])"
      ]
     },
     "execution_count": 145,
     "metadata": {},
     "output_type": "execute_result"
    }
   ],
   "source": [
    "np.array(targets['demand'])[:20]"
   ]
  },
  {
   "cell_type": "code",
   "execution_count": 146,
   "metadata": {},
   "outputs": [
    {
     "data": {
      "text/plain": [
       "array([13.62023303,  0.        ,  0.        ,  0.        ,  0.        ,\n",
       "       18.        , 23.        , 22.        , 14.        , 19.        ,\n",
       "       20.        , 19.        , 16.        , 19.        , 18.        ,\n",
       "        0.        , 20.        , 19.        , 18.        , 19.        ])"
      ]
     },
     "execution_count": 146,
     "metadata": {},
     "output_type": "execute_result"
    }
   ],
   "source": [
    "np.array(targets['capacity'])[:20]"
   ]
  },
  {
   "cell_type": "code",
   "execution_count": 103,
   "metadata": {},
   "outputs": [
    {
     "name": "stderr",
     "output_type": "stream",
     "text": [
      "C:\\Users\\rebal\\AppData\\Local\\Temp\\ipykernel_63420\\470271967.py:1: FutureWarning: You are using `torch.load` with `weights_only=False` (the current default value), which uses the default pickle module implicitly. It is possible to construct malicious pickle data which will execute arbitrary code during unpickling (See https://github.com/pytorch/pytorch/blob/main/SECURITY.md#untrusted-models for more details). In a future release, the default value for `weights_only` will be flipped to `True`. This limits the functions that could be executed during unpickling. Arbitrary objects will no longer be allowed to be loaded via this mode unless they are explicitly allowlisted by the user via `torch.serialization.add_safe_globals`. We recommend you start setting `weights_only=True` for any use case where you don't have full control of the loaded file. Please open an issue on GitHub for any issues related to this experimental feature.\n",
      "  dataset = torch.load(\"../h_dataset_eigenvectors.pt\")\n"
     ]
    }
   ],
   "source": [
    "dataset = torch.load(\"../h_dataset_eigenvectors.pt\")"
   ]
  },
  {
   "cell_type": "code",
   "execution_count": 105,
   "metadata": {},
   "outputs": [],
   "source": [
    "h_dataset = []\n",
    "for data in dataset:\n",
    "    h_dataset.append(data)"
   ]
  },
  {
   "cell_type": "code",
   "execution_count": 106,
   "metadata": {},
   "outputs": [
    {
     "data": {
      "text/plain": [
       "[0, 1, 2, 3, 4, 5, 6, 7, 8, 9, 10, 11]"
      ]
     },
     "execution_count": 106,
     "metadata": {},
     "output_type": "execute_result"
    }
   ],
   "source": [
    "load_data_indices = [idx for idx in range(len(h_dataset))]\n",
    "load_data_indices"
   ]
  },
  {
   "cell_type": "code",
   "execution_count": 112,
   "metadata": {},
   "outputs": [
    {
     "data": {
      "text/plain": [
       "HeteroData(\n",
       "  design_name='superblue_18',\n",
       "  num_instances=459495,\n",
       "  variant_data_lst=[1],\n",
       "  node={ x=[459495, 35] },\n",
       "  net={ x=[468888, 1] },\n",
       "  (node, to, net)={\n",
       "    edge_index=[2, 1830299],\n",
       "    edge_weight=[1830299],\n",
       "    edge_type=[1830299],\n",
       "  },\n",
       "  (net, to, node)={\n",
       "    edge_index=[2, 1830299],\n",
       "    edge_weight=[1830299],\n",
       "  }\n",
       ")"
      ]
     },
     "execution_count": 112,
     "metadata": {},
     "output_type": "execute_result"
    }
   ],
   "source": [
    "h_dataset[4]"
   ]
  },
  {
   "cell_type": "code",
   "execution_count": null,
   "metadata": {},
   "outputs": [],
   "source": []
  }
 ],
 "metadata": {
  "kernelspec": {
   "display_name": "chips",
   "language": "python",
   "name": "python3"
  },
  "language_info": {
   "codemirror_mode": {
    "name": "ipython",
    "version": 3
   },
   "file_extension": ".py",
   "mimetype": "text/x-python",
   "name": "python",
   "nbconvert_exporter": "python",
   "pygments_lexer": "ipython3",
   "version": "3.8.8"
  }
 },
 "nbformat": 4,
 "nbformat_minor": 2
}
