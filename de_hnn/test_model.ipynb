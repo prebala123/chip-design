{
 "cells": [
  {
   "cell_type": "code",
   "execution_count": 4,
   "metadata": {},
   "outputs": [
    {
     "name": "stderr",
     "output_type": "stream",
     "text": [
      "C:\\Users\\rebal\\AppData\\Local\\Temp\\ipykernel_32248\\3473235973.py:120: FutureWarning: You are using `torch.load` with `weights_only=False` (the current default value), which uses the default pickle module implicitly. It is possible to construct malicious pickle data which will execute arbitrary code during unpickling (See https://github.com/pytorch/pytorch/blob/main/SECURITY.md#untrusted-models for more details). In a future release, the default value for `weights_only` will be flipped to `True`. This limits the functions that could be executed during unpickling. Arbitrary objects will no longer be allowed to be loaded via this mode unless they are explicitly allowlisted by the user via `torch.serialization.add_safe_globals`. We recommend you start setting `weights_only=True` for any use case where you don't have full control of the loaded file. Please open an issue on GitHub for any issues related to this experimental feature.\n",
      "  dataset = torch.load(\"h_dataset.pt\")\n",
      "  0%|          | 0/10 [00:00<?, ?it/s]\n"
     ]
    },
    {
     "ename": "ValueError",
     "evalue": "not enough values to unpack (expected 7, got 6)",
     "output_type": "error",
     "traceback": [
      "\u001b[1;31m---------------------------------------------------------------------------\u001b[0m",
      "\u001b[1;31mValueError\u001b[0m                                Traceback (most recent call last)",
      "Cell \u001b[1;32mIn[4], line 169\u001b[0m\n\u001b[0;32m    167\u001b[0m data \u001b[38;5;241m=\u001b[39m h_dataset[data_idx]\n\u001b[0;32m    168\u001b[0m \u001b[38;5;28;01mfor\u001b[39;00m inner_data_idx \u001b[38;5;129;01min\u001b[39;00m \u001b[38;5;28mrange\u001b[39m(\u001b[38;5;28mlen\u001b[39m(data\u001b[38;5;241m.\u001b[39mvariant_data_lst)):\n\u001b[1;32m--> 169\u001b[0m     target_node_demand, target_net_demand, target_node_congestion, target_net_congestion, batch, num_vn, vn_node \u001b[38;5;241m=\u001b[39m data\u001b[38;5;241m.\u001b[39mvariant_data_lst[inner_data_idx]\n\u001b[0;32m    170\u001b[0m     optimizer\u001b[38;5;241m.\u001b[39mzero_grad()\n\u001b[0;32m    171\u001b[0m     data\u001b[38;5;241m.\u001b[39mbatch \u001b[38;5;241m=\u001b[39m batch\n",
      "\u001b[1;31mValueError\u001b[0m: not enough values to unpack (expected 7, got 6)"
     ]
    }
   ],
   "source": [
    "import os\n",
    "import numpy as np\n",
    "import pandas as pd\n",
    "import pickle\n",
    "import time\n",
    "from datetime import datetime\n",
    "\n",
    "import torch\n",
    "import torch.nn as nn\n",
    "import torch.optim as optim\n",
    "\n",
    "from torch_geometric.data import Dataset\n",
    "from torch_geometric.data import Data, HeteroData\n",
    "from torch_geometric.loader import NeighborLoader\n",
    "from torch_geometric.nn.conv.gcn_conv import gcn_norm\n",
    "from torch_geometric.nn import global_mean_pool, global_max_pool, global_add_pool\n",
    "\n",
    "from torch_geometric.utils import scatter\n",
    "\n",
    "import time\n",
    "import wandb\n",
    "from tqdm import tqdm\n",
    "from collections import Counter\n",
    "\n",
    "import sys\n",
    "sys.path.insert(1, 'data/')\n",
    "from pyg_dataset import NetlistDataset\n",
    "\n",
    "sys.path.append(\"models/layers/\")\n",
    "from models.model_att import GNN_node\n",
    "from sklearn.metrics import accuracy_score, precision_score, recall_score\n",
    "\n",
    "\n",
    "\n",
    "\n",
    "# Function to compute accuracy, precision, and recall\n",
    "def compute_metrics(true_labels, predicted_labels):\n",
    "    # Accuracy\n",
    "    accuracy = accuracy_score(true_labels, predicted_labels)\n",
    "    \n",
    "    # Precision\n",
    "    precision = precision_score(true_labels, predicted_labels, average='binary')\n",
    "    \n",
    "    # Recall\n",
    "    recall = recall_score(true_labels, predicted_labels, average='binary')\n",
    "    \n",
    "    return accuracy, precision, recall\n",
    "\n",
    "### hyperparameter ###\n",
    "test = False # if only test but not train\n",
    "restart = False # if restart training\n",
    "reload_dataset = True # if reload already processed h_dataset\n",
    "\n",
    "if test:\n",
    "    restart = True\n",
    "\n",
    "prediction = 'congestion' # one of ['congestion', 'demand']\n",
    "model_type = \"dehnn\" #this can be one of [\"dehnn\", \"dehnn_att\", \"digcn\", \"digat\"] \"dehnn_att\" might need large memory usage\n",
    "num_layer = 2 #large number will cause OOM\n",
    "num_dim = 16 #large number will cause OOM\n",
    "vn = True #use virtual node or not\n",
    "trans = False #use transformer or not\n",
    "aggr = \"add\" #use aggregation as one of [\"add\", \"max\"]\n",
    "device = \"cpu\" #use cuda or cpu\n",
    "learning_rate = 0.001\n",
    "num_epochs = 200\n",
    "\n",
    "if not reload_dataset:\n",
    "    dataset = NetlistDataset(data_dir=\"../data/superblue\", load_pe = True, pl = True, processed = reload_dataset, load_indices=None)\n",
    "    h_dataset = []\n",
    "    for data in tqdm(dataset):\n",
    "        num_instances = data.node_features.shape[0]\n",
    "        data.num_instances = num_instances\n",
    "        data.edge_index_sink_to_net[1] = data.edge_index_sink_to_net[1] - num_instances\n",
    "        data.edge_index_source_to_net[1] = data.edge_index_source_to_net[1] - num_instances\n",
    "        \n",
    "        out_degrees = data.net_features[:, 0]\n",
    "        mask = (out_degrees < 3000)\n",
    "        mask_edges = mask[data.edge_index_source_to_net[1]] \n",
    "        filtered_edge_index_source_to_net = data.edge_index_source_to_net[:, mask_edges]\n",
    "        data.edge_index_source_to_net = filtered_edge_index_source_to_net\n",
    "\n",
    "        mask_edges = mask[data.edge_index_sink_to_net[1]] \n",
    "        filtered_edge_index_sink_to_net = data.edge_index_sink_to_net[:, mask_edges]\n",
    "        data.edge_index_sink_to_net = filtered_edge_index_sink_to_net\n",
    "\n",
    "        h_data = HeteroData()\n",
    "        h_data['node'].x = data.node_features\n",
    "        h_data['net'].x = data.net_features.float()\n",
    "\n",
    "        \n",
    "        edge_index = torch.concat([data.edge_index_sink_to_net, data.edge_index_source_to_net], dim=1)\n",
    "        h_data['node', 'to', 'net'].edge_index, h_data['node', 'to', 'net'].edge_weight = gcn_norm(edge_index, add_self_loops=False)\n",
    "        h_data['node', 'to', 'net'].edge_type = torch.concat([torch.zeros(data.edge_index_sink_to_net.shape[1]), torch.ones(data.edge_index_source_to_net.shape[1])]).bool()\n",
    "        h_data['net', 'to', 'node'].edge_index, h_data['net', 'to', 'node'].edge_weight = gcn_norm(edge_index.flip(0), add_self_loops=False)\n",
    "        \n",
    "        h_data['design_name'] = data['design_name']\n",
    "        h_data.num_instances = data.node_features.shape[0]\n",
    "        variant_data_lst = []\n",
    "\n",
    "        node_congestion = data.node_congestion.long()\n",
    "        net_congestion = data.net_congestion.long()\n",
    "        node_demand = data.node_demand.float()\n",
    "        net_demand = data.net_demand.float()\n",
    "        node_demand = (node_demand - torch.mean(node_demand)) / torch.std(node_demand)\n",
    "        net_demand = (net_demand - torch.mean(net_demand))/ torch.std(net_demand)\n",
    "        \n",
    "        batch = data.batch\n",
    "        num_vn = len(np.unique(batch))\n",
    "        vn_node = torch.concat([global_mean_pool(h_data['node'].x, batch), \n",
    "                global_max_pool(h_data['node'].x, batch)], dim=1)\n",
    "\n",
    "        variant_data_lst.append((node_demand, net_demand, node_congestion, net_congestion, batch, num_vn, vn_node)) \n",
    "        h_data['variant_data_lst'] = variant_data_lst\n",
    "        h_dataset.append(h_data)\n",
    "        \n",
    "    torch.save(h_dataset, \"h_dataset.pt\")\n",
    "    \n",
    "else:\n",
    "    dataset = torch.load(\"h_dataset.pt\")\n",
    "    h_dataset = []\n",
    "    for data in dataset:\n",
    "        h_dataset.append(data)\n",
    "    \n",
    "sys.path.append(\"models/layers/\")\n",
    "\n",
    "h_data = h_dataset[0]\n",
    "if restart:\n",
    "    model = torch.load(f\"{model_type}_{num_layer}_{num_dim}_{vn}_{trans}_model.pt\")\n",
    "elif prediction == 'congestion':\n",
    "    model = GNN_node(num_layer, num_dim, 2, 2, node_dim = h_data['node'].x.shape[1], net_dim = h_data['net'].x.shape[1], gnn_type=model_type, vn=vn, trans=trans, aggr=aggr, JK=\"Normal\").to(device)\n",
    "else:\n",
    "    model = GNN_node(num_layer, num_dim, 1, 1, node_dim = h_data['node'].x.shape[1], net_dim = h_data['net'].x.shape[1], gnn_type=model_type, vn=vn, trans=trans, aggr=aggr, JK=\"Normal\").to(device)\n",
    "\n",
    "if prediction == 'congestion':\n",
    "    criterion_node = nn.CrossEntropyLoss()\n",
    "    criterion_net = nn.CrossEntropyLoss()\n",
    "else:\n",
    "    criterion_node = nn.MSELoss()\n",
    "    criterion_net = nn.MSELoss()\n",
    "\n",
    "optimizer = optim.AdamW(model.parameters(), lr=learning_rate,  weight_decay=0.01)\n",
    "load_data_indices = [idx for idx in range(len(h_dataset))]\n",
    "all_train_indices, all_valid_indices, all_test_indices = load_data_indices[:10], load_data_indices[10:11], load_data_indices[11:12]\n",
    "best_total_val = None\n",
    "\n",
    "now = datetime.now()\n",
    "timestamp = now.strftime(\"%Y-%m-%d_%H-%M-%S\")\n",
    "filepath = f\"../results/baselines/{timestamp}__{num_epochs}_{num_layer}_{num_dim}_{vn}_{prediction}_baseline.csv\"\n",
    "with open(filepath, 'a') as f:\n",
    "    if prediction == 'congestion':\n",
    "        f.write('Epoch,TruePositive,FalsePositive,TrueNegative,FalseNegative,Precision,Recall,Fscore,NodeTrain,NetTrain,NodeValid,NetValid,Time\\n')\n",
    "    else:\n",
    "        f.write('Epoch,NodeTrain,NetTrain,NodeValid,NetValid,Time\\n')\n",
    "\n",
    "if not test:\n",
    "    start_time = time.time()\n",
    "    for epoch in range(num_epochs):\n",
    "        np.random.shuffle(all_train_indices)\n",
    "        loss_node_all = 0\n",
    "        loss_net_all = 0\n",
    "        val_loss_node_all = 0\n",
    "        val_loss_net_all = 0\n",
    "        \n",
    "        all_train_idx = 0\n",
    "        for data_idx in tqdm(all_train_indices):\n",
    "            data = h_dataset[data_idx]\n",
    "            for inner_data_idx in range(len(data.variant_data_lst)):\n",
    "                target_node_demand, target_net_demand, target_node_congestion, target_net_congestion, batch, num_vn, vn_node = data.variant_data_lst[inner_data_idx]\n",
    "                optimizer.zero_grad()\n",
    "                data.batch = batch\n",
    "                data.num_vn = num_vn\n",
    "                data.vn = vn_node\n",
    "                node_representation, net_representation = model(data, device)\n",
    "                node_representation = torch.squeeze(node_representation).float()\n",
    "                net_representation = torch.squeeze(net_representation).float()\n",
    "\n",
    "                # print(node_representation)\n",
    "                # print(target_node_demand)\n",
    "\n",
    "                if prediction == 'congestion':\n",
    "                    loss_node = criterion_node(node_representation, target_node_congestion.to(device))\n",
    "                    loss_net = criterion_net(net_representation, target_net_congestion.to(device))\n",
    "                else:\n",
    "                    loss_node = criterion_node(node_representation, target_node_demand.to(device))\n",
    "                    loss_net = criterion_net(net_representation, target_net_demand.to(device))\n",
    "                \n",
    "                loss = loss_node + loss_net\n",
    "                # loss = loss_net\n",
    "                loss.backward()\n",
    "                optimizer.step()   \n",
    "    \n",
    "                loss_node_all += loss_node.item()\n",
    "                loss_net_all += loss_net.item()\n",
    "                all_train_idx += 1\n",
    "        print('Training Loss Node: ', loss_node_all/all_train_idx, ', Net: ', loss_net_all/all_train_idx)\n",
    "    \n",
    "        all_valid_idx = 0\n",
    "        for data_idx in tqdm(all_valid_indices):\n",
    "            data = h_dataset[data_idx]\n",
    "            for inner_data_idx in range(len(data.variant_data_lst)):\n",
    "                target_node_demand, target_net_demand, target_node_congestion, target_net_congestion, batch, num_vn, vn_node = data.variant_data_lst[inner_data_idx]\n",
    "                data.batch = batch\n",
    "                data.num_vn = num_vn\n",
    "                data.vn = vn_node\n",
    "                node_representation, net_representation = model(data, device)\n",
    "                node_representation = torch.squeeze(node_representation)\n",
    "                net_representation = torch.squeeze(net_representation)\n",
    "                \n",
    "                # val_loss_node = criterion_node(node_representation, target_node.to(device))\n",
    "                # val_loss_net = criterion_net(net_representation, target_net.to(device))\n",
    "                if prediction == 'congestion':\n",
    "                    val_loss_node = criterion_node(node_representation, target_node_congestion.to(device))\n",
    "                    val_loss_net = criterion_net(net_representation, target_net_congestion.to(device))\n",
    "                else:\n",
    "                    val_loss_node = criterion_node(node_representation, target_node_demand.to(device))\n",
    "                    val_loss_net = criterion_net(net_representation, target_net_demand.to(device))\n",
    "\n",
    "                val_loss_node_all +=  val_loss_node.item()\n",
    "                val_loss_net_all += val_loss_net.item()\n",
    "                all_valid_idx += 1\n",
    "\n",
    "                if prediction == 'congestion':\n",
    "                    outs = node_representation.detach().numpy()\n",
    "                    pred_vals = np.array([0 if i > j else 1 for i, j in outs])\n",
    "                    real_vals = target_node_congestion.numpy()\n",
    "                    tp, fp, tn, fn = 0, 0, 0, 0\n",
    "                    for i, j in zip(pred_vals, real_vals):\n",
    "                        if i == 1 and j == 1:\n",
    "                            tp += 1\n",
    "                        elif i == 1 and j == 0:\n",
    "                            fp += 1\n",
    "                        elif i == 0 and j == 1:\n",
    "                            fn += 1\n",
    "                        else:\n",
    "                            tn += 1\n",
    "                    p = 0\n",
    "                    r = 0\n",
    "                    fsc = 0\n",
    "                    if tp + fp > 0:\n",
    "                        p = tp / (tp + fp)\n",
    "                    if tp + fn > 0:\n",
    "                        r = tp / (tp + fn)\n",
    "                    if p + r > 0:\n",
    "                        fsc = (2 * p * r) / (p + r)\n",
    "\n",
    "        print('Validation Loss Node: ', val_loss_node_all/all_valid_idx, ', Net: ',  val_loss_net_all/all_valid_idx)\n",
    "        if prediction == 'congestion':\n",
    "            print(f'Precision: {p}, Recall: {r}, F-score: {fsc}')\n",
    "            print(tp, fp)\n",
    "            print(fn, tn)\n",
    "        print(f'Epoch {epoch+1}, {round(time.time() - start_time, 2)}s\\n')\n",
    "    \n",
    "        if (best_total_val is None) or ((loss_node_all/all_train_idx) < best_total_val):\n",
    "            best_total_val = loss_node_all/all_train_idx\n",
    "            torch.save(model, f\"{model_type}_{num_layer}_{num_dim}_{vn}_{trans}_{prediction}.pt\")\n",
    "\n",
    "        with open(filepath, 'a') as f:\n",
    "            if prediction == 'congestion':\n",
    "                f.write(f'{epoch+1},{tp},{fp},{tn},{fn},{p},{r},{fsc},')\n",
    "                f.write(f'{loss_node_all/all_train_idx},{loss_net_all/all_train_idx},{val_loss_node_all/all_valid_idx},{val_loss_net_all/all_valid_idx},{round(time.time()-start_time, 2)}\\n')\n",
    "            else:\n",
    "                f.write(f'{epoch+1},{loss_node_all/all_train_idx},{loss_net_all/all_train_idx},{val_loss_node_all/all_valid_idx},{val_loss_net_all/all_valid_idx},{round(time.time()-start_time, 2)}\\n')\n",
    "        \n",
    "else:\n",
    "    all_test_idx = 0\n",
    "    test_loss_node_all = 0\n",
    "    test_loss_net_all = 0\n",
    "    for data_idx in tqdm(all_test_indices):\n",
    "        data = h_dataset[data_idx]\n",
    "        for inner_data_idx in range(len(data.variant_data_lst)):\n",
    "            target_node, target_net_hpwl, target_net_demand, batch, num_vn, vn_node = data.variant_data_lst[inner_data_idx]\n",
    "            data.batch = batch\n",
    "            data.num_vn = num_vn\n",
    "            data.vn = vn_node\n",
    "            node_representation, net_representation = model(data, device)\n",
    "            node_representation = torch.squeeze(node_representation)\n",
    "            net_representation = torch.squeeze(net_representation)\n",
    "            \n",
    "            test_loss_node = criterion_node(node_representation, target_node.to(device))\n",
    "            test_loss_net = criterion_net(net_representation, target_net_demand.to(device))\n",
    "            test_loss_node_all +=  test_loss_node.item()\n",
    "            test_loss_net_all += test_loss_net.item()\n",
    "            all_test_idx += 1\n",
    "    print(\"avg test node demand mse: \", test_loss_node_all/all_test_idx)\n",
    "    print(\"avg test net demand mse: \", test_loss_net_all/all_test_idx)"
   ]
  },
  {
   "cell_type": "code",
   "execution_count": 5,
   "metadata": {},
   "outputs": [
    {
     "data": {
      "text/plain": [
       "[HeteroData(\n",
       "   design_name='superblue_1',\n",
       "   num_instances=797938,\n",
       "   variant_data_lst=[1],\n",
       "   node={ x=[797938, 45] },\n",
       "   net={ x=[821523, 11] },\n",
       "   (node, to, net)={\n",
       "     edge_index=[2, 2805327],\n",
       "     edge_weight=[2805327],\n",
       "     edge_type=[2805327],\n",
       "   },\n",
       "   (net, to, node)={\n",
       "     edge_index=[2, 2805327],\n",
       "     edge_weight=[2805327],\n",
       "   }\n",
       " ),\n",
       " HeteroData(\n",
       "   design_name='superblue_11',\n",
       "   num_instances=923355,\n",
       "   variant_data_lst=[1],\n",
       "   node={ x=[923355, 45] },\n",
       "   net={ x=[954144, 11] },\n",
       "   (node, to, net)={\n",
       "     edge_index=[2, 3049383],\n",
       "     edge_weight=[3049383],\n",
       "     edge_type=[3049383],\n",
       "   },\n",
       "   (net, to, node)={\n",
       "     edge_index=[2, 3049383],\n",
       "     edge_weight=[3049383],\n",
       "   }\n",
       " ),\n",
       " HeteroData(\n",
       "   design_name='superblue_14',\n",
       "   num_instances=604921,\n",
       "   variant_data_lst=[1],\n",
       "   node={ x=[604921, 45] },\n",
       "   net={ x=[627036, 11] },\n",
       "   (node, to, net)={\n",
       "     edge_index=[2, 2013969],\n",
       "     edge_weight=[2013969],\n",
       "     edge_type=[2013969],\n",
       "   },\n",
       "   (net, to, node)={\n",
       "     edge_index=[2, 2013969],\n",
       "     edge_weight=[2013969],\n",
       "   }\n",
       " ),\n",
       " HeteroData(\n",
       "   design_name='superblue_16',\n",
       "   num_instances=671284,\n",
       "   variant_data_lst=[1],\n",
       "   node={ x=[671284, 45] },\n",
       "   net={ x=[696983, 11] },\n",
       "   (node, to, net)={\n",
       "     edge_index=[2, 2250698],\n",
       "     edge_weight=[2250698],\n",
       "     edge_type=[2250698],\n",
       "   },\n",
       "   (net, to, node)={\n",
       "     edge_index=[2, 2250698],\n",
       "     edge_weight=[2250698],\n",
       "   }\n",
       " ),\n",
       " HeteroData(\n",
       "   design_name='superblue_18',\n",
       "   num_instances=459495,\n",
       "   variant_data_lst=[1],\n",
       "   node={ x=[459495, 45] },\n",
       "   net={ x=[468888, 11] },\n",
       "   (node, to, net)={\n",
       "     edge_index=[2, 1830299],\n",
       "     edge_weight=[1830299],\n",
       "     edge_type=[1830299],\n",
       "   },\n",
       "   (net, to, node)={\n",
       "     edge_index=[2, 1830299],\n",
       "     edge_weight=[1830299],\n",
       "   }\n",
       " ),\n",
       " HeteroData(\n",
       "   design_name='superblue_19',\n",
       "   num_instances=495234,\n",
       "   variant_data_lst=[1],\n",
       "   node={ x=[495234, 45] },\n",
       "   net={ x=[510258, 11] },\n",
       "   (node, to, net)={\n",
       "     edge_index=[2, 1649522],\n",
       "     edge_weight=[1649522],\n",
       "     edge_type=[1649522],\n",
       "   },\n",
       "   (net, to, node)={\n",
       "     edge_index=[2, 1649522],\n",
       "     edge_weight=[1649522],\n",
       "   }\n",
       " ),\n",
       " HeteroData(\n",
       "   design_name='superblue_2',\n",
       "   num_instances=951166,\n",
       "   variant_data_lst=[1],\n",
       "   node={ x=[951166, 45] },\n",
       "   net={ x=[985117, 11] },\n",
       "   (node, to, net)={\n",
       "     edge_index=[2, 3148183],\n",
       "     edge_weight=[3148183],\n",
       "     edge_type=[3148183],\n",
       "   },\n",
       "   (net, to, node)={\n",
       "     edge_index=[2, 3148183],\n",
       "     edge_weight=[3148183],\n",
       "   }\n",
       " ),\n",
       " HeteroData(\n",
       "   design_name='superblue_3',\n",
       "   num_instances=901254,\n",
       "   variant_data_lst=[1],\n",
       "   node={ x=[901254, 45] },\n",
       "   net={ x=[925667, 11] },\n",
       "   (node, to, net)={\n",
       "     edge_index=[2, 3118418],\n",
       "     edge_weight=[3118418],\n",
       "     edge_type=[3118418],\n",
       "   },\n",
       "   (net, to, node)={\n",
       "     edge_index=[2, 3118418],\n",
       "     edge_weight=[3118418],\n",
       "   }\n",
       " ),\n",
       " HeteroData(\n",
       "   design_name='superblue_5',\n",
       "   num_instances=727341,\n",
       "   variant_data_lst=[1],\n",
       "   node={ x=[727341, 45] },\n",
       "   net={ x=[803681, 11] },\n",
       "   (node, to, net)={\n",
       "     edge_index=[2, 2394105],\n",
       "     edge_weight=[2394105],\n",
       "     edge_type=[2394105],\n",
       "   },\n",
       "   (net, to, node)={\n",
       "     edge_index=[2, 2394105],\n",
       "     edge_weight=[2394105],\n",
       "   }\n",
       " ),\n",
       " HeteroData(\n",
       "   design_name='superblue_6',\n",
       "   num_instances=998122,\n",
       "   variant_data_lst=[1],\n",
       "   node={ x=[998122, 45] },\n",
       "   net={ x=[1049225, 11] },\n",
       "   (node, to, net)={\n",
       "     edge_index=[2, 3368000],\n",
       "     edge_weight=[3368000],\n",
       "     edge_type=[3368000],\n",
       "   },\n",
       "   (net, to, node)={\n",
       "     edge_index=[2, 3368000],\n",
       "     edge_weight=[3368000],\n",
       "   }\n",
       " ),\n",
       " HeteroData(\n",
       "   design_name='superblue_7',\n",
       "   num_instances=1319052,\n",
       "   variant_data_lst=[1],\n",
       "   node={ x=[1319052, 45] },\n",
       "   net={ x=[1339522, 11] },\n",
       "   (node, to, net)={\n",
       "     edge_index=[2, 4880423],\n",
       "     edge_weight=[4880423],\n",
       "     edge_type=[4880423],\n",
       "   },\n",
       "   (net, to, node)={\n",
       "     edge_index=[2, 4880423],\n",
       "     edge_weight=[4880423],\n",
       "   }\n",
       " ),\n",
       " HeteroData(\n",
       "   design_name='superblue_9',\n",
       "   num_instances=810812,\n",
       "   variant_data_lst=[1],\n",
       "   node={ x=[810812, 45] },\n",
       "   net={ x=[830308, 11] },\n",
       "   (node, to, net)={\n",
       "     edge_index=[2, 2810353],\n",
       "     edge_weight=[2810353],\n",
       "     edge_type=[2810353],\n",
       "   },\n",
       "   (net, to, node)={\n",
       "     edge_index=[2, 2810353],\n",
       "     edge_weight=[2810353],\n",
       "   }\n",
       " )]"
      ]
     },
     "execution_count": 5,
     "metadata": {},
     "output_type": "execute_result"
    }
   ],
   "source": [
    "h_dataset"
   ]
  },
  {
   "cell_type": "code",
   "execution_count": 6,
   "metadata": {},
   "outputs": [
    {
     "data": {
      "text/plain": [
       "12"
      ]
     },
     "execution_count": 6,
     "metadata": {},
     "output_type": "execute_result"
    }
   ],
   "source": [
    "len(h_dataset)"
   ]
  },
  {
   "cell_type": "code",
   "execution_count": 3,
   "metadata": {},
   "outputs": [
    {
     "data": {
      "text/plain": [
       "tensor([[-0.3972,  0.2553],\n",
       "        [-0.3541,  0.2041],\n",
       "        [-0.3527,  0.2020],\n",
       "        ...,\n",
       "        [-0.3042,  0.1830],\n",
       "        [-0.3047,  0.1807],\n",
       "        [-0.9496,  0.5788]], grad_fn=<AddmmBackward0>)"
      ]
     },
     "execution_count": 3,
     "metadata": {},
     "output_type": "execute_result"
    }
   ],
   "source": [
    "node_representation"
   ]
  },
  {
   "cell_type": "code",
   "execution_count": 4,
   "metadata": {},
   "outputs": [
    {
     "data": {
      "text/plain": [
       "0.5329729465833162"
      ]
     },
     "execution_count": 4,
     "metadata": {},
     "output_type": "execute_result"
    }
   ],
   "source": [
    "target_node.numpy().mean()"
   ]
  },
  {
   "cell_type": "code",
   "execution_count": 5,
   "metadata": {},
   "outputs": [
    {
     "data": {
      "text/plain": [
       "array([[-0.3972408 ,  0.25528955],\n",
       "       [-0.35414067,  0.20412536],\n",
       "       [-0.35266522,  0.20200948],\n",
       "       ...,\n",
       "       [-0.3041961 ,  0.18303321],\n",
       "       [-0.30473903,  0.18074541],\n",
       "       [-0.9495648 ,  0.5788216 ]], dtype=float32)"
      ]
     },
     "execution_count": 5,
     "metadata": {},
     "output_type": "execute_result"
    }
   ],
   "source": [
    "outs = node_representation.detach().numpy()\n",
    "outs"
   ]
  },
  {
   "cell_type": "code",
   "execution_count": 6,
   "metadata": {},
   "outputs": [
    {
     "data": {
      "text/plain": [
       "array([1, 1, 1, ..., 1, 1, 1])"
      ]
     },
     "execution_count": 6,
     "metadata": {},
     "output_type": "execute_result"
    }
   ],
   "source": [
    "pred_vals = np.array([0 if i > j else 1 for i, j in outs])\n",
    "pred_vals"
   ]
  },
  {
   "cell_type": "code",
   "execution_count": 7,
   "metadata": {},
   "outputs": [
    {
     "data": {
      "text/plain": [
       "array([0, 1, 1, ..., 0, 1, 1], dtype=int64)"
      ]
     },
     "execution_count": 7,
     "metadata": {},
     "output_type": "execute_result"
    }
   ],
   "source": [
    "real_vals = target_node.numpy()\n",
    "real_vals"
   ]
  },
  {
   "cell_type": "code",
   "execution_count": 8,
   "metadata": {},
   "outputs": [],
   "source": [
    "tp, fp, tn, fn = 0, 0, 0, 0\n",
    "for i, j in zip(pred_vals, real_vals):\n",
    "    if i == 1 and j == 1:\n",
    "        tp += 1\n",
    "    elif i == 1 and j == 0:\n",
    "        fp += 1\n",
    "    elif i == 0 and j == 1:\n",
    "        fn += 1\n",
    "    else:\n",
    "        tn += 1"
   ]
  },
  {
   "cell_type": "code",
   "execution_count": 9,
   "metadata": {},
   "outputs": [
    {
     "name": "stdout",
     "output_type": "stream",
     "text": [
      "462571 399711 \n",
      " 17773 21199\n"
     ]
    }
   ],
   "source": [
    "print(tp, fp, '\\n', fn, tn)"
   ]
  },
  {
   "cell_type": "code",
   "execution_count": 10,
   "metadata": {},
   "outputs": [
    {
     "data": {
      "text/plain": [
       "0.5364497925272707"
      ]
     },
     "execution_count": 10,
     "metadata": {},
     "output_type": "execute_result"
    }
   ],
   "source": [
    "# Precision\n",
    "p = tp / (tp + fp)\n",
    "p"
   ]
  },
  {
   "cell_type": "code",
   "execution_count": 11,
   "metadata": {},
   "outputs": [
    {
     "data": {
      "text/plain": [
       "0.9629994337391536"
      ]
     },
     "execution_count": 11,
     "metadata": {},
     "output_type": "execute_result"
    }
   ],
   "source": [
    "# Recall\n",
    "r = tp / (tp + fn)\n",
    "r"
   ]
  },
  {
   "cell_type": "code",
   "execution_count": 12,
   "metadata": {},
   "outputs": [
    {
     "data": {
      "text/plain": [
       "0.6890541371908484"
      ]
     },
     "execution_count": 12,
     "metadata": {},
     "output_type": "execute_result"
    }
   ],
   "source": [
    "(2 * p * r) / (p + r)"
   ]
  },
  {
   "cell_type": "code",
   "execution_count": null,
   "metadata": {},
   "outputs": [],
   "source": []
  }
 ],
 "metadata": {
  "kernelspec": {
   "display_name": "chips",
   "language": "python",
   "name": "python3"
  },
  "language_info": {
   "codemirror_mode": {
    "name": "ipython",
    "version": 3
   },
   "file_extension": ".py",
   "mimetype": "text/x-python",
   "name": "python",
   "nbconvert_exporter": "python",
   "pygments_lexer": "ipython3",
   "version": "3.8.8"
  }
 },
 "nbformat": 4,
 "nbformat_minor": 2
}
